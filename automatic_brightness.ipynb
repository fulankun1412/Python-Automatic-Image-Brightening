{
 "cells": [
  {
   "cell_type": "code",
   "execution_count": 44,
   "metadata": {},
   "outputs": [],
   "source": [
    "import cv2\n",
    "import numpy\n",
    "import os"
   ]
  },
  {
   "cell_type": "code",
   "execution_count": 73,
   "metadata": {},
   "outputs": [],
   "source": [
    "def brightening(file_img, n):\n",
    "    img = cv2.imread(file_img)\n",
    "    cols, rows, _ = img.shape\n",
    "    brightness = numpy.sum(img) / (255 * cols * rows)\n",
    "    print(cols, rows)\n",
    "    brightness = numpy.sum(img) / (255 * cols * rows)\n",
    "    print(brightness)\n",
    "    \n",
    "    minimum_brightness = 2.25\n",
    "    ratio = brightness / minimum_brightness\n",
    "    bright_img = cv2.convertScaleAbs(img, alpha = 1 / ratio, beta = 0)\n",
    "    save_name = file_img\n",
    "    os.remove(file_img)\n",
    "    cv2.imwrite(save_name, bright_img)"
   ]
  },
  {
   "cell_type": "code",
   "execution_count": 74,
   "metadata": {},
   "outputs": [
    {
     "name": "stdout",
     "output_type": "stream",
     "text": [
      "2000 2000\n",
      "1.723311205882353\n",
      "2000 2000\n",
      "1.5854688715686274\n",
      "2000 2000\n",
      "1.6035843715686275\n",
      "2000 2000\n",
      "1.6398113068627451\n",
      "2000 2000\n",
      "1.4888729176470588\n",
      "2000 2000\n",
      "1.5223230470588236\n",
      "2500 2500\n",
      "1.7150890704313726\n",
      "2500 2500\n",
      "1.7349436385882353\n",
      "2500 2500\n",
      "1.7247981038431373\n",
      "2500 2500\n",
      "1.6502835030588234\n",
      "2500 2500\n",
      "1.619066944627451\n",
      "2500 2500\n",
      "1.624258272627451\n",
      "2000 2000\n",
      "1.6932318274509803\n",
      "2000 2000\n",
      "1.5909698490196078\n",
      "2000 2000\n",
      "1.6147073823529412\n",
      "2000 2000\n",
      "1.7054515333333333\n",
      "2000 2000\n",
      "1.6927344901960784\n",
      "2000 2000\n",
      "1.7083567147058825\n",
      "2500 2500\n",
      "1.8025441549803922\n",
      "2500 2500\n",
      "1.7613100574117646\n",
      "2500 2500\n",
      "1.792615776\n",
      "2500 2500\n",
      "1.7302150519215687\n",
      "2500 2500\n",
      "1.7207492084705882\n",
      "2500 2500\n",
      "1.735895488627451\n"
     ]
    }
   ],
   "source": [
    "paths=[\"training_test\"]\n",
    "no = 0\n",
    "for path in paths:\n",
    "    for root, directories, filenames in os.walk(path):\n",
    "        for filename in filenames:\n",
    "            if filename.endswith(\".jpg\"):\n",
    "                brightening(os.path.join(root, filename), no)"
   ]
  },
  {
   "cell_type": "code",
   "execution_count": null,
   "metadata": {},
   "outputs": [],
   "source": []
  }
 ],
 "metadata": {
  "kernelspec": {
   "display_name": "Python 3",
   "language": "python",
   "name": "python3"
  },
  "language_info": {
   "codemirror_mode": {
    "name": "ipython",
    "version": 3
   },
   "file_extension": ".py",
   "mimetype": "text/x-python",
   "name": "python",
   "nbconvert_exporter": "python",
   "pygments_lexer": "ipython3",
   "version": "3.8.6"
  }
 },
 "nbformat": 4,
 "nbformat_minor": 4
}
